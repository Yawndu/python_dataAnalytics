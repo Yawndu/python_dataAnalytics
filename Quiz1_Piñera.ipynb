{
  "nbformat": 4,
  "nbformat_minor": 0,
  "metadata": {
    "colab": {
      "provenance": []
    },
    "kernelspec": {
      "name": "python3",
      "display_name": "Python 3"
    },
    "language_info": {
      "name": "python"
    }
  },
  "cells": [
    {
      "cell_type": "code",
      "execution_count": 21,
      "metadata": {
        "colab": {
          "base_uri": "https://localhost:8080/"
        },
        "id": "sQHz7EGOxndP",
        "outputId": "90b05650-fc3a-407c-eabe-ee59be7a288d"
      },
      "outputs": [
        {
          "output_type": "stream",
          "name": "stdout",
          "text": [
            "1. Sales Summary:\n",
            "Total Annual Revenue: 233000\n",
            "Average Monthly Revenue: 19416.67\n",
            "Highest Revenue Month: 25000\n",
            "Lowest Revenue Month: 12000\n"
          ]
        }
      ],
      "source": [
        "revenues = [12000, 15000, 17000, 22000, 19500, 18000, 25000, 23000, 21000, 19000, 17500, 24000]\n",
        "\n",
        "total_annual_revenue = sum(revenues)\n",
        "average_monthly_revenue = total_annual_revenue / len(revenues)\n",
        "highest_revenue = max(revenues)\n",
        "lowest_revenue = min(revenues)\n",
        "\n",
        "print(\"1. Sales Summary:\")\n",
        "print(f\"Total Annual Revenue: {total_annual_revenue}\")\n",
        "print(f\"Average Monthly Revenue: {average_monthly_revenue:.2f}\")\n",
        "print(f\"Highest Revenue Month: {highest_revenue}\")\n",
        "print(f\"Lowest Revenue Month: {lowest_revenue}\")"
      ]
    },
    {
      "cell_type": "code",
      "source": [
        "salaries = {\"Justin\": 5500, \"Abiel\": 6000, \"Uderbe\": 7000, \"Deever\": 7200, \"Andrei\": 3000}\n",
        "\n",
        "print(\"\\n2. Employee Salaries:\")\n",
        "print(\"-----------------------\")\n",
        "print(\"{:<10} {:>8}\".format(\"Name\", \"Salary\"))\n",
        "print(\"-----------------------\")\n",
        "for name, salary in salaries.items():\n",
        "    print(\"{:<10} {:>7}\".format(name, salary))\n",
        "print(\"-----------------------\")\n",
        "\n",
        "highest_salary = max(salaries.values())\n",
        "lowest_salary = min(salaries.values())\n",
        "total_salaries = sum(salaries.values())\n",
        "\n",
        "print(f\"Highest Salary: {highest_salary}\")\n",
        "print(f\"Lowest Salary: {lowest_salary}\")\n",
        "print(f\"Total Salaries Paid: {total_salaries}\")\n"
      ],
      "metadata": {
        "colab": {
          "base_uri": "https://localhost:8080/"
        },
        "id": "KuY7ZCbkzFg5",
        "outputId": "2782d043-dba6-4307-9df0-179c8060188f"
      },
      "execution_count": 22,
      "outputs": [
        {
          "output_type": "stream",
          "name": "stdout",
          "text": [
            "\n",
            "2. Employee Salaries:\n",
            "-----------------------\n",
            "Name         Salary\n",
            "-----------------------\n",
            "Justin        5500\n",
            "Abiel         6000\n",
            "Uderbe        7000\n",
            "Deever        7200\n",
            "Andrei        3000\n",
            "-----------------------\n",
            "Highest Salary: 7200\n",
            "Lowest Salary: 3000\n",
            "Total Salaries Paid: 28700\n"
          ]
        }
      ]
    },
    {
      "cell_type": "code",
      "source": [
        "ratings = [4.3, 3.8, 4.2, 5.0, 4.7, 3.9, 4.1, 4.8, 4.0, 3.5, 4.3, 4.9]\n",
        "\n",
        "total_ratings = len(ratings)\n",
        "print(f\"3. Total number of ratings: {total_ratings}\")\n",
        "average_rating = round(sum(ratings) / total_ratings, 2)\n",
        "print(f\"Average rating: {average_rating}\")\n",
        "\n",
        "above_four_stars = sum(1 for rating in ratings if rating > 4.0)\n",
        "print(f\"Number of ratings above 4.0 stars: {above_four_stars}\")\n",
        "\n",
        "\n",
        "for rating in ratings:\n",
        "    if rating >= 4.0:\n",
        "        print(f\"{rating}: Excellent Product\")\n",
        "    elif rating <= 4.0:\n",
        "        print(f\"{rating}: Needs Improvement\")\n"
      ],
      "metadata": {
        "colab": {
          "base_uri": "https://localhost:8080/"
        },
        "id": "rm9VEpv-zbHC",
        "outputId": "e6ef31ae-53dc-473d-ae65-7237bf9c90a9"
      },
      "execution_count": 23,
      "outputs": [
        {
          "output_type": "stream",
          "name": "stdout",
          "text": [
            "3. Total number of ratings: 12\n",
            "Average rating: 4.29\n",
            "Number of ratings above 4.0 stars: 8\n",
            "4.3: Excellent Product\n",
            "3.8: Needs Improvement\n",
            "4.2: Excellent Product\n",
            "5.0: Excellent Product\n",
            "4.7: Excellent Product\n",
            "3.9: Needs Improvement\n",
            "4.1: Excellent Product\n",
            "4.8: Excellent Product\n",
            "4.0: Excellent Product\n",
            "3.5: Needs Improvement\n",
            "4.3: Excellent Product\n",
            "4.9: Excellent Product\n"
          ]
        }
      ]
    },
    {
      "cell_type": "code",
      "source": [
        "transactions = [True, False, True, True, False, True, False, True, True, False, True, True]\n",
        "\n",
        "total_transactions = len(transactions)\n",
        "successful_transactions = sum(transactions)\n",
        "success_rate = (successful_transactions / total_transactions) * 100\n",
        "\n",
        "print(\"\\n4. Transaction Success Rate:\")\n",
        "print(f\"Total Transactions: {total_transactions}\")\n",
        "print(f\"Successful Transactions: {successful_transactions}\")\n",
        "print(f\"Success Rate: {success_rate:.2f}%\")"
      ],
      "metadata": {
        "colab": {
          "base_uri": "https://localhost:8080/"
        },
        "id": "QhUUZ7YT0it5",
        "outputId": "8ac17f5e-6438-48de-ca8a-dbe99c67523f"
      },
      "execution_count": 24,
      "outputs": [
        {
          "output_type": "stream",
          "name": "stdout",
          "text": [
            "\n",
            "4. Transaction Success Rate:\n",
            "Total Transactions: 12\n",
            "Successful Transactions: 8\n",
            "Success Rate: 66.67%\n"
          ]
        }
      ]
    },
    {
      "cell_type": "code",
      "source": [
        "likes =720\n",
        "comments = 150\n",
        "shares = 90\n",
        "\n",
        "total_engagements = likes + comments + shares\n",
        "\n",
        "print(f\"5. Total number of likes = {likes}\")\n",
        "print(f\"Total number of comments = {comments}\")\n",
        "print(f\"Total number of shares = {shares}\")\n",
        "print(f\"Total number of engagements = {total_engagements}\")\n",
        "\n",
        "\n",
        "if (total_engagements >= 1000):\n",
        "  print(\"Engagement Level: Highly engaging\")\n",
        "\n",
        "elif(500<= total_engagements <= 1000):\n",
        "  print(\"Engagement Level: Moderately engaging\")\n",
        "\n",
        "else:\n",
        "  print(\"Engagement Level: Not engaging\")\n"
      ],
      "metadata": {
        "colab": {
          "base_uri": "https://localhost:8080/"
        },
        "id": "cveh6Ouy5A6g",
        "outputId": "3a7e1da2-fcca-4531-a11a-60fc51c2431a"
      },
      "execution_count": 25,
      "outputs": [
        {
          "output_type": "stream",
          "name": "stdout",
          "text": [
            "5. Total number of likes = 720\n",
            "Total number of comments = 150\n",
            "Total number of shares = 90\n",
            "Total number of engagements = 960\n",
            "Engagement Level: Moderately engaging\n"
          ]
        }
      ]
    }
  ]
}