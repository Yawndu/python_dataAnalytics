{
  "nbformat": 4,
  "nbformat_minor": 0,
  "metadata": {
    "colab": {
      "provenance": []
    },
    "kernelspec": {
      "name": "python3",
      "display_name": "Python 3"
    },
    "language_info": {
      "name": "python"
    }
  },
  "cells": [
    {
      "cell_type": "code",
      "execution_count": 9,
      "metadata": {
        "colab": {
          "base_uri": "https://localhost:8080/"
        },
        "id": "N2VY9VqBzSx2",
        "outputId": "fc7209b1-f424-46bd-8ed5-7a280e495828"
      },
      "outputs": [
        {
          "output_type": "stream",
          "name": "stdout",
          "text": [
            "The sum is: 249000\n",
            "Monthly sales is: 20750.0\n",
            "Highest sales in the DataSet is: 25000\n",
            "Lowest sales in the DataSet is: 15000 \n"
          ]
        }
      ],
      "source": [
        "sales = [15000, 18000, 22000, 25000, 19500, 21000, 17500, 24000, 23000, 20000, 19000, 25000]\n",
        "\n",
        "print(f\"The sum is: {sum(sales)}\")\n",
        "print(f\"Monthly sales is: {sum(sales)/12}\")\n",
        "print(f\"Highest sales in the DataSet is: {max(sales)}\")\n",
        "print(f\"Lowest sales in the DataSet is: {min(sales)} \")\n"
      ]
    },
    {
      "cell_type": "code",
      "source": [
        "sales = [15000, 18000, 22000, 25000, 19500, 21000, 17500, 24000, 23000, 20000, 19000, 25000]\n",
        "months = [\"January\", \"February\", \"March\", \"April\", \"May\", \"June\", \"July\", \"August\", \"September\", \"October\", \"November\", \"December\"]\n",
        "\n",
        "\n",
        "print(\"|MONTHLY SALES|\")\n",
        "print(\"|MONTH | SALES|\")\n",
        "\n",
        "for i in range(len(sales)):\n",
        "    print(f\"|{months[i]} | {sales[i]}|\")"
      ],
      "metadata": {
        "colab": {
          "base_uri": "https://localhost:8080/"
        },
        "id": "biWhgFigzYx_",
        "outputId": "7773c2f7-5ad6-4ffe-a2ff-2a09a661ddec"
      },
      "execution_count": 28,
      "outputs": [
        {
          "output_type": "stream",
          "name": "stdout",
          "text": [
            "|MONTHLY SALES|\n",
            "|MONTH | SALES|\n",
            "|Jan | 15000|\n",
            "|February | 18000|\n",
            "|March | 22000|\n",
            "|April | 25000|\n",
            "|May | 19500|\n",
            "|June | 21000|\n",
            "|July | 17500|\n",
            "|August | 24000|\n",
            "|September | 23000|\n",
            "|October | 20000|\n",
            "|November | 19000|\n",
            "|December | 25000|\n"
          ]
        }
      ]
    },
    {
      "cell_type": "code",
      "source": [
        "ratings = [4.5, 3.8, 4.2, 5.0, 4.7, 3.9, 4.1, 4.8, 4.0, 3.5]\n",
        "\n",
        "total_ratings = len(ratings)\n",
        "print(f\"Total number of ratings: {total_ratings}\")\n",
        "average_rating = round(sum(ratings) / total_ratings, 2)\n",
        "print(f\"Average rating: {average_rating}\")\n",
        "\n",
        "above_four_stars = sum(1 for rating in ratings if rating > 4.0)\n",
        "print(f\"Number of ratings above 4.0 stars: {above_four_stars}\")\n",
        "\n",
        "\n",
        "for rating in ratings:\n",
        "    if rating >= 4.0:\n",
        "        print(f\"{rating}: Good ratings\")\n",
        "    elif rating <= 4.0:\n",
        "        print(f\"{rating}: Needs Improvement\")\n",
        ""
      ],
      "metadata": {
        "colab": {
          "base_uri": "https://localhost:8080/"
        },
        "id": "1zFfo7WizbmP",
        "outputId": "093c3d62-2172-444d-af40-acc620908e0f"
      },
      "execution_count": 40,
      "outputs": [
        {
          "output_type": "stream",
          "name": "stdout",
          "text": [
            "Total number of ratings: 10\n",
            "Average rating: 4.25\n",
            "Number of ratings above 4.0 stars: 6\n",
            "4.5: Good ratings\n",
            "3.8: Needs Improvement\n",
            "4.2: Good ratings\n",
            "5.0: Good ratings\n",
            "4.7: Good ratings\n",
            "3.9: Needs Improvement\n",
            "4.1: Good ratings\n",
            "4.8: Good ratings\n",
            "4.0: Good ratings\n",
            "3.5: Needs Improvement\n"
          ]
        }
      ]
    },
    {
      "cell_type": "code",
      "source": [
        "\n",
        "regions = ['I', 'II', 'III', 'IV']\n",
        "sales_by_region = [45000, 38000, 52000, 47000]\n",
        "\n",
        "highest_sales_index = sales_by_region.index(max(sales_by_region))\n",
        "highest_sales_region = regions[highest_sales_index]\n",
        "print(f\"Region with the highest sales: {highest_sales_region}\")\n",
        "\n",
        "\n",
        "print(\"Regions with their respective sales\")\n",
        "print(f\"I: {sales_by_region[0]}\")\n",
        "print(f\"II: {sales_by_region[1]}\")\n",
        "print(f\"III: {sales_by_region[2]}\")\n",
        "print(f\"IV: {sales_by_region[3]}\")\n",
        "\n",
        "print(f\"Total Revenue is: {sum(sales_by_region)}\")"
      ],
      "metadata": {
        "colab": {
          "base_uri": "https://localhost:8080/"
        },
        "id": "jcTfKk9Ozgae",
        "outputId": "5c90628e-237e-4b1a-89d1-5f0a0c5428c7"
      },
      "execution_count": 37,
      "outputs": [
        {
          "output_type": "stream",
          "name": "stdout",
          "text": [
            "Region with the highest sales: III\n",
            "Regions with their respective sales\n",
            "I: 45000\n",
            "II: 38000\n",
            "III: 52000\n",
            "IV: 47000\n",
            "Total Revenue is: 182000\n"
          ]
        }
      ]
    },
    {
      "cell_type": "code",
      "source": [
        "products = {'Laptop': 1200, 'Tablet': 600, 'Smartphone': 800, 'Monitor': 300}\n",
        "\n",
        "\n",
        "print(\"Product Prices:\")\n",
        "for product, price in products.items():\n",
        "    print(f\"{product}: ${price}\")\n",
        "\n",
        "\n",
        "most_expensive_product = max(products, key=products.get)\n",
        "least_expensive_product = min(products, key=products.get)\n",
        "print(f\"Most expensive product: {most_expensive_product} (${products[most_expensive_product]})\")\n",
        "print(f\"Least expensive product: {least_expensive_product} (${products[least_expensive_product]})\")\n",
        "\n",
        "\n",
        "total_cost = sum(products.values())\n",
        "print(f\"Total cost if buying one of each: ${total_cost}\")"
      ],
      "metadata": {
        "colab": {
          "base_uri": "https://localhost:8080/"
        },
        "id": "gifEIAIi73I4",
        "outputId": "0280946f-d549-47be-992a-a45cf3fb31f9"
      },
      "execution_count": 41,
      "outputs": [
        {
          "output_type": "stream",
          "name": "stdout",
          "text": [
            "Product Prices:\n",
            "Laptop: $1200\n",
            "Tablet: $600\n",
            "Smartphone: $800\n",
            "Monitor: $300\n",
            "Most expensive product: Laptop ($1200)\n",
            "Least expensive product: Monitor ($300)\n",
            "Total cost if buying one of each: $2900\n"
          ]
        }
      ]
    },
    {
      "cell_type": "code",
      "source": [],
      "metadata": {
        "id": "FCbo5qeZ-Y5Y"
      },
      "execution_count": null,
      "outputs": []
    }
  ]
}